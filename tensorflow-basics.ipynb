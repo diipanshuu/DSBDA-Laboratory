{
 "cells": [
  {
   "cell_type": "markdown",
   "id": "acoustic-wallet",
   "metadata": {
    "papermill": {
     "duration": 0.021707,
     "end_time": "2022-07-13T10:04:46.217418",
     "exception": false,
     "start_time": "2022-07-13T10:04:46.195711",
     "status": "completed"
    },
    "tags": []
   },
   "source": []
  },
  {
   "cell_type": "markdown",
   "id": "latin-indicator",
   "metadata": {
    "papermill": {
     "duration": 0.022966,
     "end_time": "2022-07-13T10:04:46.261655",
     "exception": false,
     "start_time": "2022-07-13T10:04:46.238689",
     "status": "completed"
    },
    "tags": []
   },
   "source": [
    "## Reference Links - Deep Learning Programming Frameworks\n",
    "\n",
    "* **Intro to Google Colab, free GPU and TPU for Deep Learning (Episode 1) -** https://www.youtube.com/watch?v=vVe648dJOdI\n",
    "\n",
    "* **Introduction to Tensorflow & Keras for Deep Learning with Python (3.2) -** https://www.youtube.com/watch?v=PsE73jk55cE\n",
    "\n",
    "* **Introduction to Tensorflow and Keras -** https://github.com/jeffheaton/t81_558_deep_learning/blob/master/t81_558_class_03_2_keras.ipynb\n",
    "\n",
    "* **TensorFlow Tutorial -** https://www.tensorflow.org/tutorials\n",
    "\n",
    "* **Visualise the derivative of a function here -** https://www.mathsisfun.com/calculus/derivative-plotter.html\n",
    "\n",
    "* **TensorFlow 2.0 Introduction -** https://colab.research.google.com/drive/1F_EWVKa8rbMXi3_fG0w7AtcscFq7Hi7B#forceEdit=true&sandboxMode=true"
   ]
  },
  {
   "cell_type": "markdown",
   "id": "allied-testament",
   "metadata": {
    "id": "bMwWWv_NLu0C",
    "papermill": {
     "duration": 0.029443,
     "end_time": "2022-07-13T10:04:46.314181",
     "exception": false,
     "start_time": "2022-07-13T10:04:46.284738",
     "status": "completed"
    },
    "tags": []
   },
   "source": [
    "# <center> Tensorflow Basics"
   ]
  },
  {
   "cell_type": "code",
   "execution_count": 1,
   "id": "closing-equilibrium",
   "metadata": {
    "execution": {
     "iopub.execute_input": "2022-07-13T10:04:46.390636Z",
     "iopub.status.busy": "2022-07-13T10:04:46.384500Z",
     "iopub.status.idle": "2022-07-13T10:04:52.621612Z",
     "shell.execute_reply": "2022-07-13T10:04:52.620304Z"
    },
    "id": "W15eefa2Q5hA",
    "outputId": "1053ba3d-d738-438d-e4e4-ff65ecb5296a",
    "papermill": {
     "duration": 6.275151,
     "end_time": "2022-07-13T10:04:52.621845",
     "exception": false,
     "start_time": "2022-07-13T10:04:46.346694",
     "status": "completed"
    },
    "tags": []
   },
   "outputs": [
    {
     "name": "stdout",
     "output_type": "stream",
     "text": [
      "2.4.1\n"
     ]
    }
   ],
   "source": [
    "import tensorflow as tf\n",
    "print(tf.__version__)"
   ]
  },
  {
   "cell_type": "markdown",
   "id": "powerful-commissioner",
   "metadata": {
    "id": "U71NYDeFkUhq",
    "papermill": {
     "duration": 0.020675,
     "end_time": "2022-07-13T10:04:52.663995",
     "exception": false,
     "start_time": "2022-07-13T10:04:52.643320",
     "status": "completed"
    },
    "tags": []
   },
   "source": [
    "## TensorFlow Fundamentals\n",
    "As per the TensorFlow website, TensorFlow is \"an end-to-end open source platform for machine learning. It has a comprehensive, flexible ecosystem of tools, libraries and community resources that lets researchers push the state-of-the-art in ML and developers easily build and deploy ML powered applications.\"\n",
    "\n",
    "Learning to work with tensorflow comes handy in developing ML and DL models and in this notebooks we will quickly have a look at the fundamentals/basics of tensorflow. Note that a very detailed understanding of TensorFlow are not required for this course and we will cover some very basic concepts here. You can go ahead and explore this [site](https://www.tensorflow.org/) if you are further interested."
   ]
  },
  {
   "cell_type": "markdown",
   "id": "appropriate-learning",
   "metadata": {
    "id": "5bmtTepn6SvG",
    "papermill": {
     "duration": 0.020247,
     "end_time": "2022-07-13T10:04:52.704848",
     "exception": false,
     "start_time": "2022-07-13T10:04:52.684601",
     "status": "completed"
    },
    "tags": []
   },
   "source": [
    "## Basic operations with TensorFlow"
   ]
  },
  {
   "cell_type": "code",
   "execution_count": 2,
   "id": "promotional-handle",
   "metadata": {
    "execution": {
     "iopub.execute_input": "2022-07-13T10:04:52.750819Z",
     "iopub.status.busy": "2022-07-13T10:04:52.750075Z",
     "iopub.status.idle": "2022-07-13T10:04:52.754033Z",
     "shell.execute_reply": "2022-07-13T10:04:52.754611Z"
    },
    "papermill": {
     "duration": 0.028935,
     "end_time": "2022-07-13T10:04:52.754788",
     "exception": false,
     "start_time": "2022-07-13T10:04:52.725853",
     "status": "completed"
    },
    "tags": []
   },
   "outputs": [],
   "source": [
    "#?tf.square"
   ]
  },
  {
   "cell_type": "code",
   "execution_count": 3,
   "id": "weird-gilbert",
   "metadata": {
    "execution": {
     "iopub.execute_input": "2022-07-13T10:04:52.800385Z",
     "iopub.status.busy": "2022-07-13T10:04:52.799667Z",
     "iopub.status.idle": "2022-07-13T10:04:52.836115Z",
     "shell.execute_reply": "2022-07-13T10:04:52.835534Z"
    },
    "id": "pCZGHQ_XmHuZ",
    "outputId": "6982ae70-ce97-4849-e34f-94fd164adefc",
    "papermill": {
     "duration": 0.06026,
     "end_time": "2022-07-13T10:04:52.836285",
     "exception": false,
     "start_time": "2022-07-13T10:04:52.776025",
     "status": "completed"
    },
    "tags": []
   },
   "outputs": [
    {
     "name": "stdout",
     "output_type": "stream",
     "text": [
      "a: (4+2j) b: (6+7j) \n",
      "\n",
      "(-2-5j) \n",
      "\n",
      "(10+40j) \n",
      "\n",
      "(10+9j) \n",
      "\n",
      "tf.Tensor((19+180j), shape=(), dtype=complex128) \n",
      "\n"
     ]
    }
   ],
   "source": [
    "a = 4 + 2j #complex number\n",
    "b = 6 + 7j\n",
    "\n",
    "print('a:',a,\"b:\",b,'\\n')\n",
    "\n",
    "print(a-b,'\\n')\n",
    "print(a*b,'\\n')\n",
    "\n",
    "c = a + b\n",
    "\n",
    "print(c,'\\n')\n",
    "\n",
    "d = tf.square(c)\n",
    "print(d,'\\n')"
   ]
  },
  {
   "cell_type": "markdown",
   "id": "authentic-phrase",
   "metadata": {
    "id": "l2e8-qrcl2kH",
    "papermill": {
     "duration": 0.021364,
     "end_time": "2022-07-13T10:04:52.879886",
     "exception": false,
     "start_time": "2022-07-13T10:04:52.858522",
     "status": "completed"
    },
    "tags": []
   },
   "source": [
    "## Tensors\n",
    "As we Know, tensors are array of numbers arranged in space. We can call a vector(1-D array) as a 1st order tensor and matrix(2-D Array) as a 2nd order tensor and so on. Below, find out how to create a [constant](https://www.tensorflow.org/api_docs/python/tf/constant) tensor:\n",
    "\n",
    "\n",
    "\n",
    "\n"
   ]
  },
  {
   "cell_type": "code",
   "execution_count": 4,
   "id": "institutional-length",
   "metadata": {
    "execution": {
     "iopub.execute_input": "2022-07-13T10:04:52.926671Z",
     "iopub.status.busy": "2022-07-13T10:04:52.925853Z",
     "iopub.status.idle": "2022-07-13T10:04:52.932058Z",
     "shell.execute_reply": "2022-07-13T10:04:52.932689Z"
    },
    "id": "pGB6GDsfRFJs",
    "outputId": "8a2b75a6-e24f-43dd-ea99-88d646e047b2",
    "papermill": {
     "duration": 0.031351,
     "end_time": "2022-07-13T10:04:52.932888",
     "exception": false,
     "start_time": "2022-07-13T10:04:52.901537",
     "status": "completed"
    },
    "tags": []
   },
   "outputs": [
    {
     "name": "stdout",
     "output_type": "stream",
     "text": [
      "Elements :\n",
      " tf.Tensor(\n",
      "[[1.4 2.  2. ]\n",
      " [8.  2.  5. ]], shape=(2, 3), dtype=float32)\n"
     ]
    }
   ],
   "source": [
    "c = tf.constant([[1.4, 2.0, 2], [8, 2, 5]])\n",
    "print(\"Elements :\\n\",c)"
   ]
  },
  {
   "cell_type": "markdown",
   "id": "institutional-moment",
   "metadata": {
    "id": "RX2SB_2O1jx7",
    "papermill": {
     "duration": 0.021437,
     "end_time": "2022-07-13T10:04:52.976991",
     "exception": false,
     "start_time": "2022-07-13T10:04:52.955554",
     "status": "completed"
    },
    "tags": []
   },
   "source": [
    "* You can get its value as a Numpy array by calling `.numpy()`:"
   ]
  },
  {
   "cell_type": "code",
   "execution_count": 5,
   "id": "wireless-model",
   "metadata": {
    "execution": {
     "iopub.execute_input": "2022-07-13T10:04:53.024207Z",
     "iopub.status.busy": "2022-07-13T10:04:53.023549Z",
     "iopub.status.idle": "2022-07-13T10:04:53.036399Z",
     "shell.execute_reply": "2022-07-13T10:04:53.036893Z"
    },
    "id": "EwGyHOoq1oWn",
    "outputId": "37cee095-3717-4719-f75c-444a58a39d05",
    "papermill": {
     "duration": 0.038256,
     "end_time": "2022-07-13T10:04:53.037059",
     "exception": false,
     "start_time": "2022-07-13T10:04:52.998803",
     "status": "completed"
    },
    "tags": []
   },
   "outputs": [
    {
     "name": "stdout",
     "output_type": "stream",
     "text": [
      "[[1 2 2]\n",
      " [8 2 5]]\n"
     ]
    },
    {
     "data": {
      "text/plain": [
       "array([[1.4, 2. , 2. ],\n",
       "       [8. , 2. , 5. ]], dtype=float32)"
      ]
     },
     "execution_count": 5,
     "metadata": {},
     "output_type": "execute_result"
    }
   ],
   "source": [
    "import numpy as np\n",
    "y = np.array([[1, 2, 2], [8, 2, 5]])\n",
    "print(y)\n",
    "# We can also convert a tensor into a numpy array by using .numpy()\n",
    "c.numpy()"
   ]
  },
  {
   "cell_type": "markdown",
   "id": "abstract-blanket",
   "metadata": {
    "id": "PNkno66r1xvg",
    "papermill": {
     "duration": 0.022593,
     "end_time": "2022-07-13T10:04:53.083216",
     "exception": false,
     "start_time": "2022-07-13T10:04:53.060623",
     "status": "completed"
    },
    "tags": []
   },
   "source": [
    "We can get the dimensions and the datatype of the a tf.tensor as demonstrated below - "
   ]
  },
  {
   "cell_type": "code",
   "execution_count": 6,
   "id": "divided-credits",
   "metadata": {
    "execution": {
     "iopub.execute_input": "2022-07-13T10:04:53.132704Z",
     "iopub.status.busy": "2022-07-13T10:04:53.131679Z",
     "iopub.status.idle": "2022-07-13T10:04:53.139257Z",
     "shell.execute_reply": "2022-07-13T10:04:53.140191Z"
    },
    "id": "tSxtblSP13v2",
    "outputId": "519893e2-0c8e-4246-8289-7e583fc52be4",
    "papermill": {
     "duration": 0.034358,
     "end_time": "2022-07-13T10:04:53.140446",
     "exception": false,
     "start_time": "2022-07-13T10:04:53.106088",
     "status": "completed"
    },
    "tags": []
   },
   "outputs": [
    {
     "name": "stdout",
     "output_type": "stream",
     "text": [
      "Tensor Data Type <dtype: 'float32'>\n",
      "Tensor Dimension : 2\n",
      "Tensor Shape (2, 3)\n"
     ]
    }
   ],
   "source": [
    "print('Tensor Data Type', c.dtype)\n",
    "print(\"Tensor Dimension :\",c.ndim)\n",
    "print('Tensor Shape', c.shape)\n",
    "# You can notice the similarity with numpy \n",
    "# You can also call the different default tensors as you would do for numpy"
   ]
  },
  {
   "cell_type": "markdown",
   "id": "severe-england",
   "metadata": {
    "id": "Oogzv3--2EF2",
    "papermill": {
     "duration": 0.023238,
     "end_time": "2022-07-13T10:04:53.187771",
     "exception": false,
     "start_time": "2022-07-13T10:04:53.164533",
     "status": "completed"
    },
    "tags": []
   },
   "source": [
    "### Find a detailed reference to creating different tensors:\n",
    "\n",
    "\n",
    "1.   [Converting python/numpy objects to tensors](https://www.tensorflow.org/api_docs/python/tf/convert_to_tensor)\n",
    "2.   [Generating random values from a normal distribution](https://www.tensorflow.org/api_docs/python/tf/random/normal)\n",
    "3.   [Converting tensor values to strings ](https://www.tensorflow.org/api_docs/python/tf/strings/as_string)\n",
    "4.   [Createing a tensor of ones](https://www.tensorflow.org/api_docs/python/tf/ones)\n",
    "5.   [Creating a tensor of zeroes](https://www.tensorflow.org/api_docs/python/tf/zeros)\n",
    "6.   [TensorFlow for maths](https://www.tensorflow.org/api_docs/python/tf/math)\n",
    "\n",
    "\n",
    "\n"
   ]
  },
  {
   "cell_type": "markdown",
   "id": "given-championship",
   "metadata": {
    "papermill": {
     "duration": 0.023369,
     "end_time": "2022-07-13T10:04:53.235115",
     "exception": false,
     "start_time": "2022-07-13T10:04:53.211746",
     "status": "completed"
    },
    "tags": []
   },
   "source": [
    "----------------"
   ]
  },
  {
   "cell_type": "markdown",
   "id": "agricultural-orange",
   "metadata": {
    "id": "I95066exmbDU",
    "papermill": {
     "duration": 0.023843,
     "end_time": "2022-07-13T10:04:53.282334",
     "exception": false,
     "start_time": "2022-07-13T10:04:53.258491",
     "status": "completed"
    },
    "tags": []
   },
   "source": [
    "### [Variables](https://www.tensorflow.org/guide/variable) with tf.Variable()\n",
    "\n",
    "A tensorflow Variable is a tensor that is used to store value that can later be updated. You need to initialize a variable with some value at the time of creation.A tensorflow Variable is a tensor that is used to store value that can later be updated. You need to initialize a variable with some value at the time of creation."
   ]
  },
  {
   "cell_type": "code",
   "execution_count": 7,
   "id": "brown-venue",
   "metadata": {
    "execution": {
     "iopub.execute_input": "2022-07-13T10:04:53.335207Z",
     "iopub.status.busy": "2022-07-13T10:04:53.331881Z",
     "iopub.status.idle": "2022-07-13T10:04:53.356632Z",
     "shell.execute_reply": "2022-07-13T10:04:53.357265Z"
    },
    "id": "8FvENXmBmcyT",
    "outputId": "8a864e82-2c62-4d13-e207-6fa9bdef0345",
    "papermill": {
     "duration": 0.051526,
     "end_time": "2022-07-13T10:04:53.357434",
     "exception": false,
     "start_time": "2022-07-13T10:04:53.305908",
     "status": "completed"
    },
    "tags": []
   },
   "outputs": [
    {
     "name": "stdout",
     "output_type": "stream",
     "text": [
      "<class 'tensorflow.python.framework.ops.EagerTensor'>\n",
      "tf.Tensor(\n",
      "[[1. 1. 1.]\n",
      " [1. 1. 1.]\n",
      " [1. 1. 1.]], shape=(3, 3), dtype=float32) \n",
      "\n",
      "<class 'tensorflow.python.ops.resource_variable_ops.ResourceVariable'>\n",
      "<tf.Variable 'Variable:0' shape=(3, 3) dtype=float32, numpy=\n",
      "array([[1., 1., 1.],\n",
      "       [1., 1., 1.],\n",
      "       [1., 1., 1.]], dtype=float32)> \n",
      "\n",
      "<tf.Variable 'Variable:0' shape=(3, 3) dtype=float32, numpy=\n",
      "array([[0., 0., 0.],\n",
      "       [0., 0., 0.],\n",
      "       [0., 0., 0.]], dtype=float32)>\n"
     ]
    }
   ],
   "source": [
    "random_variable = tf.ones(shape=(3,3))\n",
    "\n",
    "print(type(random_variable))\n",
    "print(random_variable,'\\n')\n",
    "\n",
    "\n",
    "#random variable\n",
    "tf_variable = tf.Variable(random_variable)\n",
    "print(type(tf_variable))\n",
    "print(tf_variable,'\\n')\n",
    "\n",
    "#you can also update the values of your variable.\n",
    "tf_variable.assign(tf.zeros(shape = (3,3)))\n",
    "print(tf_variable)"
   ]
  },
  {
   "cell_type": "markdown",
   "id": "former-remedy",
   "metadata": {
    "id": "YRFwVySi3biu",
    "papermill": {
     "duration": 0.023346,
     "end_time": "2022-07-13T10:04:53.405344",
     "exception": false,
     "start_time": "2022-07-13T10:04:53.381998",
     "status": "completed"
    },
    "tags": []
   },
   "source": [
    "* You can find more on updating a variable [here](https://www.tensorflow.org/api_docs/python/tf/Variable#assign_add)."
   ]
  },
  {
   "cell_type": "markdown",
   "id": "grave-opportunity",
   "metadata": {
    "papermill": {
     "duration": 0.023556,
     "end_time": "2022-07-13T10:04:53.452542",
     "exception": false,
     "start_time": "2022-07-13T10:04:53.428986",
     "status": "completed"
    },
    "tags": []
   },
   "source": [
    "-------"
   ]
  },
  {
   "cell_type": "markdown",
   "id": "detected-fundamentals",
   "metadata": {
    "id": "5Feq3qWoBVQW",
    "papermill": {
     "duration": 0.023289,
     "end_time": "2022-07-13T10:04:53.499396",
     "exception": false,
     "start_time": "2022-07-13T10:04:53.476107",
     "status": "completed"
    },
    "tags": []
   },
   "source": [
    "## GradientTapeGradientTape : \n",
    "Now we learn about the <b>[`GradientTape`](https://www.tensorflow.org/api_docs/python/tf/GradientTape)</b> which is used to record operations for automatic differentiation.\n",
    "\n",
    "* TensorFlow Tutorial 6- GradientTape in TensorFlow - https://www.youtube.com/watch?v=tDG52BjkGUY"
   ]
  },
  {
   "cell_type": "code",
   "execution_count": 8,
   "id": "supreme-scene",
   "metadata": {
    "execution": {
     "iopub.execute_input": "2022-07-13T10:04:53.549907Z",
     "iopub.status.busy": "2022-07-13T10:04:53.549208Z",
     "iopub.status.idle": "2022-07-13T10:04:53.574620Z",
     "shell.execute_reply": "2022-07-13T10:04:53.575312Z"
    },
    "id": "FkEAY45IBjPv",
    "outputId": "b3797a82-31fe-4633-856b-e19ff24cdf3d",
    "papermill": {
     "duration": 0.052507,
     "end_time": "2022-07-13T10:04:53.575494",
     "exception": false,
     "start_time": "2022-07-13T10:04:53.522987",
     "status": "completed"
    },
    "tags": []
   },
   "outputs": [
    {
     "name": "stdout",
     "output_type": "stream",
     "text": [
      "tf.Tensor(18.0, shape=(), dtype=float32)\n"
     ]
    }
   ],
   "source": [
    "# computing derivative for the function 3x^2 at x = 3\n",
    "\n",
    "x = tf.constant(3.0) #gradient at\n",
    "\n",
    "with tf.GradientTape() as g:\n",
    "    g.watch(x) #record the operations\n",
    "    y = 3* x**2\n",
    "dy_dx = g.gradient(y, x) \n",
    "print(dy_dx)"
   ]
  },
  {
   "cell_type": "code",
   "execution_count": 9,
   "id": "traditional-distinction",
   "metadata": {
    "execution": {
     "iopub.execute_input": "2022-07-13T10:04:53.628027Z",
     "iopub.status.busy": "2022-07-13T10:04:53.627371Z",
     "iopub.status.idle": "2022-07-13T10:04:53.634807Z",
     "shell.execute_reply": "2022-07-13T10:04:53.635355Z"
    },
    "papermill": {
     "duration": 0.034948,
     "end_time": "2022-07-13T10:04:53.635534",
     "exception": false,
     "start_time": "2022-07-13T10:04:53.600586",
     "status": "completed"
    },
    "tags": []
   },
   "outputs": [
    {
     "name": "stdout",
     "output_type": "stream",
     "text": [
      "tf.Tensor(96.0, shape=(), dtype=float32)\n"
     ]
    }
   ],
   "source": [
    "# We can also use nested GradientTape() for the second derivative\n",
    "#computing second derivative for the function 4x^3 at x = 4.0\n",
    "\n",
    "x = tf.constant(4.0)\n",
    "with tf.GradientTape() as gt:\n",
    "    gt.watch(x)\n",
    "    with tf.GradientTape() as g:\n",
    "        g.watch(x)  \n",
    "        y = 4* x**3\n",
    "    dy_dx = g.gradient(y, x)\n",
    "d2y_dx2 = gt.gradient(dy_dx,x)\n",
    "print(d2y_dx2)"
   ]
  },
  {
   "cell_type": "markdown",
   "id": "solved-albany",
   "metadata": {
    "id": "MhJw1h9jQ9Sj",
    "papermill": {
     "duration": 0.024311,
     "end_time": "2022-07-13T10:04:53.684652",
     "exception": false,
     "start_time": "2022-07-13T10:04:53.660341",
     "status": "completed"
    },
    "tags": []
   },
   "source": [
    "# <center> Practice Questions"
   ]
  },
  {
   "cell_type": "markdown",
   "id": "swiss-beauty",
   "metadata": {
    "id": "Qz_D1Q5uRBYI",
    "papermill": {
     "duration": 0.024378,
     "end_time": "2022-07-13T10:04:53.734918",
     "exception": false,
     "start_time": "2022-07-13T10:04:53.710540",
     "status": "completed"
    },
    "tags": []
   },
   "source": [
    "#### 1. Create a constant tensor array 'x' like [2,3,4] and find element wise e^x.  Refer to the website [here](https://www.tensorflow.org/api_docs/python/tf/math/exp).\n",
    "\n"
   ]
  },
  {
   "cell_type": "code",
   "execution_count": 10,
   "id": "nominated-queue",
   "metadata": {
    "execution": {
     "iopub.execute_input": "2022-07-13T10:04:53.788505Z",
     "iopub.status.busy": "2022-07-13T10:04:53.787811Z",
     "iopub.status.idle": "2022-07-13T10:04:53.790911Z",
     "shell.execute_reply": "2022-07-13T10:04:53.791497Z"
    },
    "id": "cAnQWKlOSIm5",
    "outputId": "add7308d-949f-4e74-e41f-2932217b522f",
    "papermill": {
     "duration": 0.031299,
     "end_time": "2022-07-13T10:04:53.791670",
     "exception": false,
     "start_time": "2022-07-13T10:04:53.760371",
     "status": "completed"
    },
    "tags": []
   },
   "outputs": [],
   "source": [
    "#your code here\n"
   ]
  },
  {
   "cell_type": "markdown",
   "id": "japanese-department",
   "metadata": {
    "id": "_vjzx7lARB73",
    "papermill": {
     "duration": 0.024654,
     "end_time": "2022-07-13T10:04:53.841234",
     "exception": false,
     "start_time": "2022-07-13T10:04:53.816580",
     "status": "completed"
    },
    "tags": []
   },
   "source": [
    "#### 2. Declare a variable with a 3*2 shaped floating elements array with elements picked from a random normal distributions.   "
   ]
  },
  {
   "cell_type": "code",
   "execution_count": 11,
   "id": "desperate-break",
   "metadata": {
    "execution": {
     "iopub.execute_input": "2022-07-13T10:04:53.894121Z",
     "iopub.status.busy": "2022-07-13T10:04:53.893482Z",
     "iopub.status.idle": "2022-07-13T10:04:53.897389Z",
     "shell.execute_reply": "2022-07-13T10:04:53.896860Z"
    },
    "id": "1tIf7IDWQ_jv",
    "outputId": "6ac0917a-0b6b-4ab6-dd64-d0a162e07175",
    "papermill": {
     "duration": 0.031607,
     "end_time": "2022-07-13T10:04:53.897532",
     "exception": false,
     "start_time": "2022-07-13T10:04:53.865925",
     "status": "completed"
    },
    "tags": []
   },
   "outputs": [],
   "source": [
    "#your code here\n"
   ]
  },
  {
   "cell_type": "markdown",
   "id": "czech-colors",
   "metadata": {
    "id": "COzXVKw4Tzus",
    "papermill": {
     "duration": 0.024743,
     "end_time": "2022-07-13T10:04:53.947286",
     "exception": false,
     "start_time": "2022-07-13T10:04:53.922543",
     "status": "completed"
    },
    "tags": []
   },
   "source": [
    "#### 3. Subtract 1 from every element of the above matrix.\n"
   ]
  },
  {
   "cell_type": "code",
   "execution_count": 12,
   "id": "dental-trustee",
   "metadata": {
    "execution": {
     "iopub.execute_input": "2022-07-13T10:04:54.001423Z",
     "iopub.status.busy": "2022-07-13T10:04:54.000603Z",
     "iopub.status.idle": "2022-07-13T10:04:54.003735Z",
     "shell.execute_reply": "2022-07-13T10:04:54.003105Z"
    },
    "id": "ikePYswBTtZR",
    "outputId": "8dc4476c-55c1-450f-e68f-15ce48897cd3",
    "papermill": {
     "duration": 0.031801,
     "end_time": "2022-07-13T10:04:54.003875",
     "exception": false,
     "start_time": "2022-07-13T10:04:53.972074",
     "status": "completed"
    },
    "tags": []
   },
   "outputs": [],
   "source": [
    "#your code here\n"
   ]
  },
  {
   "cell_type": "markdown",
   "id": "minimal-drilling",
   "metadata": {
    "id": "1a7byi1JVtvX",
    "papermill": {
     "duration": 0.025103,
     "end_time": "2022-07-13T10:04:54.054076",
     "exception": false,
     "start_time": "2022-07-13T10:04:54.028973",
     "status": "completed"
    },
    "tags": []
   },
   "source": [
    "#### 4. Calculate the third derivative of the function 4x^3 + x^2 + 1 at x = 1"
   ]
  },
  {
   "cell_type": "code",
   "execution_count": 13,
   "id": "hidden-month",
   "metadata": {
    "execution": {
     "iopub.execute_input": "2022-07-13T10:04:54.109452Z",
     "iopub.status.busy": "2022-07-13T10:04:54.108594Z",
     "iopub.status.idle": "2022-07-13T10:04:54.111458Z",
     "shell.execute_reply": "2022-07-13T10:04:54.110872Z"
    },
    "id": "avo6eCafUxtR",
    "outputId": "fa357d0b-d952-433d-eb7b-832ab0b39a54",
    "papermill": {
     "duration": 0.032327,
     "end_time": "2022-07-13T10:04:54.111599",
     "exception": false,
     "start_time": "2022-07-13T10:04:54.079272",
     "status": "completed"
    },
    "tags": []
   },
   "outputs": [],
   "source": [
    "#your code here\n",
    "x = tf.constant(1.0) "
   ]
  },
  {
   "cell_type": "markdown",
   "id": "growing-november",
   "metadata": {
    "id": "oxZZQyeJaxG7",
    "papermill": {
     "duration": 0.024755,
     "end_time": "2022-07-13T10:04:54.161532",
     "exception": false,
     "start_time": "2022-07-13T10:04:54.136777",
     "status": "completed"
    },
    "tags": []
   },
   "source": [
    "#### 5. Calculate dot product of matrices [[1,2,3],[4,5,6],[7,8,9]] and [[1],[2],[3]] using tensorflow functions. Also, find the element wise multiplication of the two."
   ]
  },
  {
   "cell_type": "code",
   "execution_count": 14,
   "id": "central-sharp",
   "metadata": {
    "execution": {
     "iopub.execute_input": "2022-07-13T10:04:54.214739Z",
     "iopub.status.busy": "2022-07-13T10:04:54.214082Z",
     "iopub.status.idle": "2022-07-13T10:04:54.218543Z",
     "shell.execute_reply": "2022-07-13T10:04:54.219179Z"
    },
    "id": "72HI2FnyXeuR",
    "outputId": "b0ed3a1d-3208-49bf-ab34-fbd9283ab480",
    "papermill": {
     "duration": 0.03282,
     "end_time": "2022-07-13T10:04:54.219351",
     "exception": false,
     "start_time": "2022-07-13T10:04:54.186531",
     "status": "completed"
    },
    "tags": []
   },
   "outputs": [],
   "source": [
    "#your code here for dot product\n",
    "a = tf.constant([[1,2,3],[4,5,6],[7,8,9]])\n",
    "b = tf.constant([[1],[2],[3]])"
   ]
  },
  {
   "cell_type": "code",
   "execution_count": 15,
   "id": "sealed-petite",
   "metadata": {
    "execution": {
     "iopub.execute_input": "2022-07-13T10:04:54.273966Z",
     "iopub.status.busy": "2022-07-13T10:04:54.273328Z",
     "iopub.status.idle": "2022-07-13T10:04:54.276692Z",
     "shell.execute_reply": "2022-07-13T10:04:54.277302Z"
    },
    "id": "1XMUT6IhbgOC",
    "outputId": "9f3f2181-b074-45c7-c99f-1afff602dc7d",
    "papermill": {
     "duration": 0.032898,
     "end_time": "2022-07-13T10:04:54.277474",
     "exception": false,
     "start_time": "2022-07-13T10:04:54.244576",
     "status": "completed"
    },
    "tags": []
   },
   "outputs": [],
   "source": [
    "# your code here for element wise product\n"
   ]
  }
 ],
 "metadata": {
  "kernelspec": {
   "display_name": "Python 3",
   "language": "python",
   "name": "python3"
  },
  "language_info": {
   "codemirror_mode": {
    "name": "ipython",
    "version": 3
   },
   "file_extension": ".py",
   "mimetype": "text/x-python",
   "name": "python",
   "nbconvert_exporter": "python",
   "pygments_lexer": "ipython3",
   "version": "3.7.10"
  },
  "papermill": {
   "default_parameters": {},
   "duration": 17.850932,
   "end_time": "2022-07-13T10:04:55.759860",
   "environment_variables": {},
   "exception": null,
   "input_path": "__notebook__.ipynb",
   "output_path": "__notebook__.ipynb",
   "parameters": {},
   "start_time": "2022-07-13T10:04:37.908928",
   "version": "2.3.3"
  }
 },
 "nbformat": 4,
 "nbformat_minor": 5
}
