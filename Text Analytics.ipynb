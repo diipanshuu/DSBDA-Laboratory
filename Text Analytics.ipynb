{
 "cells": [
  {
   "cell_type": "markdown",
   "id": "4c876541",
   "metadata": {},
   "source": [
    "# Tokenization"
   ]
  },
  {
   "cell_type": "code",
   "execution_count": 1,
   "id": "032c640e",
   "metadata": {},
   "outputs": [
    {
     "data": {
      "text/plain": [
       "['At',\n",
       " 'eight',\n",
       " \"o'clock\",\n",
       " 'on',\n",
       " 'Thursday',\n",
       " 'morning',\n",
       " 'Arthur',\n",
       " 'did',\n",
       " \"n't\",\n",
       " 'feel',\n",
       " 'very',\n",
       " 'good',\n",
       " '.']"
      ]
     },
     "execution_count": 1,
     "metadata": {},
     "output_type": "execute_result"
    }
   ],
   "source": [
    "import nltk\n",
    "sentence = \"At eight o'clock on Thursday morning Arthur didn't feel very good.\"\n",
    "tokens = nltk.word_tokenize(sentence)\n",
    "tokens"
   ]
  },
  {
   "cell_type": "markdown",
   "id": "d98cf71d",
   "metadata": {},
   "source": [
    "# POS Tagging"
   ]
  },
  {
   "cell_type": "code",
   "execution_count": 2,
   "id": "b0548083",
   "metadata": {},
   "outputs": [
    {
     "data": {
      "text/plain": [
       "[('At', 'IN'),\n",
       " ('eight', 'CD'),\n",
       " (\"o'clock\", 'NN'),\n",
       " ('on', 'IN'),\n",
       " ('Thursday', 'NNP'),\n",
       " ('morning', 'NN')]"
      ]
     },
     "execution_count": 2,
     "metadata": {},
     "output_type": "execute_result"
    }
   ],
   "source": [
    "tagged = nltk.pos_tag(tokens)\n",
    "tagged[0:6]"
   ]
  },
  {
   "cell_type": "markdown",
   "id": "9dbaa95e",
   "metadata": {},
   "source": [
    "# Stop words removal!"
   ]
  },
  {
   "cell_type": "code",
   "execution_count": 3,
   "id": "d97c99ed",
   "metadata": {},
   "outputs": [
    {
     "name": "stdout",
     "output_type": "stream",
     "text": [
      "{'not', 'hasn', 'until', 'herself', 'into', 'here', 'because', 'it', 'itself', 'then', 'such', 'aren', 'very', 'isn', \"haven't\", 'only', 'whom', 'being', 'when', 'if', 'its', 'won', 'just', 'to', 'both', 'through', 've', 'who', 'weren', 'but', 'ours', 'hers', 'an', 'has', 'couldn', \"wasn't\", 'll', 'further', 'them', 'can', 'are', 'i', \"you'd\", \"you're\", \"you'll\", \"shouldn't\", 'theirs', 'against', 'you', \"wouldn't\", 'myself', 'o', 'their', 'what', 'as', 'haven', \"didn't\", 'my', 'any', \"it's\", \"should've\", 'all', 'this', 'wasn', 'of', 'before', 'where', \"couldn't\", 'ain', 'did', 'between', 'him', 'themselves', 'y', \"you've\", 'above', 'he', 'most', \"aren't\", \"hasn't\", 'yourselves', 'which', 'the', 'these', 'himself', 'with', 'each', 'a', 're', 'up', 'she', 'yours', 'off', 'after', 'too', \"hadn't\", 'wouldn', 'no', 'his', 'do', 'nor', 'shouldn', 'about', \"mustn't\", 'that', 'needn', 'in', \"she's\", 'few', 'doing', \"needn't\", 'while', 'we', 'me', 'again', 'on', 'shan', 'was', 'those', 'for', 'below', 'under', 'and', 'than', 'own', 'how', 'during', 'will', 'down', \"doesn't\", 'ma', \"won't\", 'they', 'should', 'your', 'am', 'having', 'at', 'there', 'so', 'same', 'mightn', 's', 'other', 'does', 't', 'have', 'doesn', 'had', 'mustn', 'were', 'be', 'd', 'more', \"mightn't\", 'over', \"that'll\", 'out', \"shan't\", 'from', 'm', 'yourself', 'hadn', \"isn't\", 'or', 'once', 'our', 'her', 'by', 'some', 'didn', 'don', 'ourselves', 'why', 'is', \"don't\", 'now', 'been', \"weren't\"}\n"
     ]
    }
   ],
   "source": [
    "from nltk.corpus import stopwords\n",
    "stop_words = set(stopwords.words(\"english\"))\n",
    "print(stop_words)"
   ]
  },
  {
   "cell_type": "code",
   "execution_count": 4,
   "id": "9b09bea5",
   "metadata": {},
   "outputs": [
    {
     "name": "stdout",
     "output_type": "stream",
     "text": [
      "Tokenized Sentence: ['At', 'eight', \"o'clock\", 'on', 'Thursday', 'morning', 'Arthur', 'did', \"n't\", 'feel', 'very', 'good', '.']\n",
      "Filtered Sentense: ['At', 'eight', \"o'clock\", 'Thursday', 'morning', 'Arthur', \"n't\", 'feel', 'good', '.']\n"
     ]
    }
   ],
   "source": [
    "filtered_sent = []\n",
    "for w in tokens:\n",
    "    if w not in stop_words:\n",
    "        filtered_sent.append(w)\n",
    "print(\"Tokenized Sentence:\", tokens)\n",
    "print(\"Filtered Sentense:\", filtered_sent)"
   ]
  },
  {
   "cell_type": "markdown",
   "id": "0b87f2af",
   "metadata": {},
   "source": [
    "# Stemming"
   ]
  },
  {
   "cell_type": "code",
   "execution_count": 5,
   "id": "89af1cd3",
   "metadata": {},
   "outputs": [
    {
     "name": "stdout",
     "output_type": "stream",
     "text": [
      "At  :  at\n",
      "eight  :  eight\n",
      "o'clock  :  o'clock\n",
      "on  :  on\n",
      "Thursday  :  thursday\n",
      "morning  :  morn\n",
      "Arthur  :  arthur\n",
      "did  :  did\n",
      "n't  :  n't\n",
      "feel  :  feel\n",
      "very  :  veri\n",
      "good  :  good\n",
      ".  :  .\n"
     ]
    }
   ],
   "source": [
    "from nltk.stem import PorterStemmer\n",
    "from nltk.tokenize import word_tokenize\n",
    "py_stem = PorterStemmer()\n",
    "sentence = \"At eight o'clock on Thursday morning Arthur didn't feel very good.\"\n",
    "py_word = word_tokenize (sentence)\n",
    "for word in py_word:\n",
    "    print (word, \" : \", py_stem.stem(word))"
   ]
  },
  {
   "cell_type": "markdown",
   "id": "f2b2af8a",
   "metadata": {},
   "source": [
    "# Lemmatization"
   ]
  },
  {
   "cell_type": "code",
   "execution_count": 6,
   "id": "c402ad30",
   "metadata": {},
   "outputs": [
    {
     "name": "stdout",
     "output_type": "stream",
     "text": [
      "Lemma for At is At\n",
      "Lemma for eight is eight\n",
      "Lemma for o'clock is o'clock\n",
      "Lemma for on is on\n",
      "Lemma for Thursday is Thursday\n",
      "Lemma for morning is morning\n",
      "Lemma for Arthur is Arthur\n",
      "Lemma for did is did\n",
      "Lemma for n't is n't\n",
      "Lemma for feel is feel\n",
      "Lemma for very is very\n",
      "Lemma for good is good\n",
      "Lemma for . is .\n"
     ]
    }
   ],
   "source": [
    "import nltk\n",
    "from nltk.stem import WordNetLemmatizer\n",
    "wordnet_lemmatizer = WordNetLemmatizer()\n",
    "sentence = \"At eight o'clock on Thursday morning Arthur didn't feel very good.\"\n",
    "tokenization = nltk.word_tokenize(sentence)\n",
    "for w in tokenization:\n",
    "    print(\"Lemma for {} is {}\".format(w, wordnet_lemmatizer.lemmatize(w)))"
   ]
  },
  {
   "cell_type": "markdown",
   "id": "ab66fcaf",
   "metadata": {},
   "source": [
    "# Term Frequency"
   ]
  },
  {
   "cell_type": "code",
   "execution_count": 7,
   "id": "b8fb07be",
   "metadata": {},
   "outputs": [],
   "source": [
    "import nltk\n",
    "import re\n",
    "import heapq\n",
    "import numpy as np\n",
    "sentence = \"At eight o'clock on Thursday morning Arthur didn't feel very good.\""
   ]
  },
  {
   "cell_type": "code",
   "execution_count": 8,
   "id": "5789b070",
   "metadata": {},
   "outputs": [],
   "source": [
    "data = nltk.sent_tokenize(sentence)"
   ]
  },
  {
   "cell_type": "code",
   "execution_count": 9,
   "id": "525fbf79",
   "metadata": {},
   "outputs": [],
   "source": [
    "up_count = {}\n",
    "for d in data:\n",
    "    words = nltk.word_tokenize(d)\n",
    "    for word in words:\n",
    "        if word not in up_count.keys():\n",
    "            up_count[word] = 1\n",
    "        else:\n",
    "            up_count[word] += 1"
   ]
  },
  {
   "cell_type": "code",
   "execution_count": 10,
   "id": "8686b3ee",
   "metadata": {},
   "outputs": [],
   "source": [
    "top_features = heapq.nlargest(9,up_count,key=up_count.get)"
   ]
  },
  {
   "cell_type": "code",
   "execution_count": 11,
   "id": "2ee659c6",
   "metadata": {},
   "outputs": [],
   "source": [
    "tf = {}\n",
    "for word in top_features:\n",
    "    doc_tf = []\n",
    "    for d in data:\n",
    "        frequency = 0\n",
    "        for w in nltk.word_tokenize(d):\n",
    "            if word == w:\n",
    "                frequency += 1\n",
    "        tf_word = frequency/len(nltk.word_tokenize(d))\n",
    "        doc_tf.append(tf_word)\n",
    "    tf[word] = doc_tf"
   ]
  },
  {
   "cell_type": "code",
   "execution_count": 12,
   "id": "c21c54da",
   "metadata": {},
   "outputs": [
    {
     "data": {
      "text/plain": [
       "{'At': [0.07692307692307693],\n",
       " 'eight': [0.07692307692307693],\n",
       " \"o'clock\": [0.07692307692307693],\n",
       " 'on': [0.07692307692307693],\n",
       " 'Thursday': [0.07692307692307693],\n",
       " 'morning': [0.07692307692307693],\n",
       " 'Arthur': [0.07692307692307693],\n",
       " 'did': [0.07692307692307693],\n",
       " \"n't\": [0.07692307692307693]}"
      ]
     },
     "execution_count": 12,
     "metadata": {},
     "output_type": "execute_result"
    }
   ],
   "source": [
    "tf"
   ]
  },
  {
   "cell_type": "markdown",
   "id": "7d58ae56",
   "metadata": {},
   "source": [
    "# Inverse Document Frequency"
   ]
  },
  {
   "cell_type": "code",
   "execution_count": 13,
   "id": "54b74650",
   "metadata": {},
   "outputs": [],
   "source": [
    "idf = {}\n",
    "for word in top_features:\n",
    "    doc_count = 0\n",
    "    for d in data:\n",
    "        if word in nltk.word_tokenize(d):\n",
    "            doc_count += 1\n",
    "    idf[word] = np.log(len(data)/(1+doc_count))"
   ]
  },
  {
   "cell_type": "code",
   "execution_count": 14,
   "id": "a115c179",
   "metadata": {},
   "outputs": [
    {
     "data": {
      "text/plain": [
       "{'At': -0.6931471805599453,\n",
       " 'eight': -0.6931471805599453,\n",
       " \"o'clock\": -0.6931471805599453,\n",
       " 'on': -0.6931471805599453,\n",
       " 'Thursday': -0.6931471805599453,\n",
       " 'morning': -0.6931471805599453,\n",
       " 'Arthur': -0.6931471805599453,\n",
       " 'did': -0.6931471805599453,\n",
       " \"n't\": -0.6931471805599453}"
      ]
     },
     "execution_count": 14,
     "metadata": {},
     "output_type": "execute_result"
    }
   ],
   "source": [
    "idf"
   ]
  },
  {
   "cell_type": "code",
   "execution_count": null,
   "id": "057fff94",
   "metadata": {},
   "outputs": [],
   "source": []
  }
 ],
 "metadata": {
  "kernelspec": {
   "display_name": "Python 3 (ipykernel)",
   "language": "python",
   "name": "python3"
  },
  "language_info": {
   "codemirror_mode": {
    "name": "ipython",
    "version": 3
   },
   "file_extension": ".py",
   "mimetype": "text/x-python",
   "name": "python",
   "nbconvert_exporter": "python",
   "pygments_lexer": "ipython3",
   "version": "3.9.12"
  }
 },
 "nbformat": 4,
 "nbformat_minor": 5
}
